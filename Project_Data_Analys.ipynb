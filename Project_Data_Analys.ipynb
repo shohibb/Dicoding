{
  "nbformat": 4,
  "nbformat_minor": 0,
  "metadata": {
    "colab": {
      "provenance": []
    },
    "kernelspec": {
      "name": "python3",
      "display_name": "Python 3"
    },
    "language_info": {
      "name": "python"
    }
  },
  "cells": [
    {
      "cell_type": "markdown",
      "source": [
        "# Proyek Analisis Data: Bike Sharing Dataset\n",
        "- Nama: Akmal Shahib Maulana\n",
        "- Email: akmalshahibmaulana@gmail.com\n",
        "- Id Dicoding:"
      ],
      "metadata": {
        "id": "cP5zh7Ww85Fm"
      }
    },
    {
      "cell_type": "markdown",
      "source": [
        "## Menentukan Pertanyaan Bisnis"
      ],
      "metadata": {
        "id": "ggwOFmpI88dG"
      }
    },
    {
      "cell_type": "markdown",
      "source": [
        "1. Apakah langkah yang tepat untuk menjaga kestabilan usaha bike-sharing berdasarkan rekap data rental pada 2 tahun terakhir ?\n",
        "2. Faktor apa saja yang mempengaruhi jumlah rental sepeda pada 2 tahun terakhir dan keputusan apa yang harus diambil agar adanya peningkatan jumlah rental yang signifikan ?"
      ],
      "metadata": {
        "id": "6irqmTtg8-IC"
      }
    },
    {
      "cell_type": "markdown",
      "source": [
        "## Menyaipkan semua library yang dibuthkan"
      ],
      "metadata": {
        "id": "EueHsNk89AsY"
      }
    },
    {
      "cell_type": "code",
      "execution_count": null,
      "metadata": {
        "id": "4cmWv4qc8xWu"
      },
      "outputs": [],
      "source": [
        "import pandas as pd\n",
        "import seaborn as sns\n",
        "import matplotlib.pyplot as plt"
      ]
    },
    {
      "cell_type": "markdown",
      "source": [
        "## Data Wrangling"
      ],
      "metadata": {
        "id": "7DwSpkkZ9BqV"
      }
    },
    {
      "cell_type": "markdown",
      "source": [
        "### Gathering Data"
      ],
      "metadata": {
        "id": "ZuJuLGxe9D9O"
      }
    },
    {
      "cell_type": "code",
      "source": [
        "data_day = pd.read_csv('day.csv')\n",
        "data_hour = pd.read_csv('hour.csv')"
      ],
      "metadata": {
        "id": "Rg3wtvOr9DUm"
      },
      "execution_count": null,
      "outputs": []
    },
    {
      "cell_type": "markdown",
      "source": [
        "pada proses gathering data saya mengini siasi data yang siap untuk dianalisis dan lokasi data tersebut berada pada folder yang sama dengan kode saya"
      ],
      "metadata": {
        "id": "kEcmWFVxJQv_"
      }
    },
    {
      "cell_type": "markdown",
      "source": [
        "### Assessing Data"
      ],
      "metadata": {
        "id": "BvZAfrSH9F2U"
      }
    },
    {
      "cell_type": "code",
      "source": [
        "data_day.isna()\n",
        "data_hour.isna()\n",
        "\n",
        "data_day.describe()\n",
        "data_hour.describe()\n",
        "\n",
        "print(data_day.duplicated().sum())\n",
        "print(data_hour.duplicated().sum())"
      ],
      "metadata": {
        "id": "fx7PaLsV9G8M"
      },
      "execution_count": null,
      "outputs": []
    },
    {
      "cell_type": "markdown",
      "source": [
        "Pada proses Assessing data saya meggunakan beberapa fungsi yaitu isna(), describe(), dan duplicated()\n",
        "dari hasil yang didapat setelah menggunakan fungsi info(),describe(),dan duplicated(), dapat diketahui bahwa tidak ada missing value atau duplicated data tapi ada kesalahan tipe data pada kedua dataset yaitu kolom dteday menggunakan tipe data string yang mana seharus nya menggunakan tipe data datetime. dibawah ini saya akan menampilkan kode untuk perbaikikan nya"
      ],
      "metadata": {
        "id": "gRuXIu7jJjsj"
      }
    },
    {
      "cell_type": "markdown",
      "source": [
        "### Cleaning Data"
      ],
      "metadata": {
        "id": "Uz5dgcJm9HW5"
      }
    },
    {
      "cell_type": "code",
      "source": [
        "datetime_columns = [\"dteday\"]\n",
        "\n",
        "for column in datetime_columns:\n",
        "  data_day[column] = pd.to_datetime(data_day[column])\n",
        "  data_hour[column] = pd.to_datetime(data_hour[column])"
      ],
      "metadata": {
        "id": "CCszTdXD9Ivf"
      },
      "execution_count": null,
      "outputs": []
    },
    {
      "cell_type": "markdown",
      "source": [
        "kode tersebut saya dapatkan dari latihan dicoding modul data wrangling\n",
        "\n",
        "untuk nama-nama kolom pada tabel tidak saya rubah karena saya merasa bukan hal yang urgent untuk dirubah selama ada dokumentasi dari dataset yang menjelaskan isi dari setiap kolom"
      ],
      "metadata": {
        "id": "rL4OmEWkJ8gm"
      }
    },
    {
      "cell_type": "markdown",
      "source": [
        "## Exploratory Data Analysis (EDA)"
      ],
      "metadata": {
        "id": "EyPJaCDm9KFb"
      }
    },
    {
      "cell_type": "markdown",
      "source": [
        "### Explore ..."
      ],
      "metadata": {
        "id": "hxgJ6qd69Mce"
      }
    },
    {
      "cell_type": "code",
      "source": [
        "selected_columns = ['season','mnth','holiday', 'weekday', 'workingday', 'weathersit', 'temp', 'atemp', 'hum', 'windspeed', 'cnt']\n",
        "daybyYear2011 = data_day[(data_day['yr'] == 0) ][selected_columns]\n",
        "daybyYear2012 = data_day[(data_day['yr'] == 1) ][selected_columns]"
      ],
      "metadata": {
        "id": "Xo68yguo9LTl"
      },
      "execution_count": null,
      "outputs": []
    },
    {
      "cell_type": "markdown",
      "source": [
        "Pada kode diatas dapat dilihat bahwa saya membagi datanya ada menjadi 2 bagian berdasarkan tahunnya karena saya ingin melihat kondisi penyewaan sepeda pertahun yang mana akan sesuai dengan pertanyaan yang telah saya tentukan"
      ],
      "metadata": {
        "id": "qCvgYUHpKDNX"
      }
    },
    {
      "cell_type": "markdown",
      "source": [
        "## Visualization & Explanatory Analysis"
      ],
      "metadata": {
        "id": "SCNmtOLp9OKB"
      }
    },
    {
      "cell_type": "markdown",
      "source": [
        "### Pertanyaan 1:"
      ],
      "metadata": {
        "id": "SG59_Fbj9Qr6"
      }
    },
    {
      "cell_type": "code",
      "source": [
        "daybyYear2011['cnt'].plot(figsize=(12, 6), linestyle='-', color='b')\n",
        "daybyYear2012['cnt'].plot(figsize=(12, 6), linestyle='-', color='r')\n",
        "# Atur label dan judul\n",
        "plt.title('Total Pengguna Selama Tahun 2011 dan 2012')\n",
        "plt.xlabel('Bulan')\n",
        "plt.ylabel('Jumlah Pengguna')\n",
        "plt.show()"
      ],
      "metadata": {
        "id": "dtRoaxqd9PdU"
      },
      "execution_count": null,
      "outputs": []
    },
    {
      "cell_type": "markdown",
      "source": [
        "### Pertanyaan 2:"
      ],
      "metadata": {
        "id": "F2Bo_ypQ9RfH"
      }
    },
    {
      "cell_type": "code",
      "source": [
        "correlation_matrix = daybyYear2011.corr()\n",
        "sns.heatmap(correlation_matrix, annot=True, cmap='coolwarm', linewidths=.5)\n",
        "plt.title('Total Pengguna Selama Tahun 2012')\n",
        "plt.xlabel('Bulan')\n",
        "plt.ylabel('Jumlah Pengguna')\n",
        "plt.show()\n",
        "\n",
        "cnt_correlation = correlation_matrix['cnt'].drop('cnt')\n",
        "print(\"Korelasi dengan kolom 'cnt':\")\n",
        "print(cnt_correlation)"
      ],
      "metadata": {
        "id": "jkO5kTJq9S1Y"
      },
      "execution_count": null,
      "outputs": []
    },
    {
      "cell_type": "markdown",
      "source": [
        "## Conclusion"
      ],
      "metadata": {
        "id": "J2CnXYGT9Tc2"
      }
    },
    {
      "cell_type": "markdown",
      "source": [
        "- Conclution pertanyaan 1 : Dilihat dari jumlah penyewa 2 tahun terakhir bisa dibilang bahwasanya usaha bike sharing atau rental sepeda ini berada dalam kondisi yang tidak merugikan tidak pula terlalu menguntungkan pada bulan bulan awal 2011 bahkan sempat mangalami penurunan pada akhir tahun tersebut. Kemudian pada awal tahun 2012 kondisi kembali stabil bahkan semakin meningkat pada pertengahan akhir tahun 2012 sampai akhir mengalami penurunan pada akhir tahun lagi. Ada sebuah pola disini dmna awal nya meningkat secara perlahan sampai ke puncak pada kisaran bulan juli-agustus atau kisaran musim panas ke gugur lalu menurun saat musin dingin. Menurut saya langkah yang tepat adalah mengurangi jumlah sepeda pada saat musim dingin dan berikan perawatan pada unit sepeda agar siap menghadapi puncak penyewaan pada musim panas ke gugur pada tahun berikut nya sehingga saat terjadinya lonjakan penyewaan sepeda dalam kondisi aman sehingga mengurangi resiko kerusakan fatal yang bisa menyebabkan kerugian lebih besar jika tidak diberikan perawatan pada sepeda\n",
        "- conclution pertanyaan 2 : Pada visualisasi kedua saya menampilkan matriks korelasi setiap kolom untuk melihat kuat tidaknya korelasi yang dimiliki setiap kolom pada kolom yang lain dengan acuan kolom 'cnt' yang mana adalah total penyewaan sepeda. pada tabel tersebut dapat dilihat bahwa kolom temp dan atemp yang sama sama berisi data suhu pada hari tersebut memiliki korelasi yang kuat. Hal ini memberikan kesimpulan bahwa kondisi suhu yang sesuai akan meningkat minat seseorang untuk bersepeda hal ini bisa menjadi acuan dimana kita bisa meningkatkan penyewaan saat suhu pada hari tersebut nyaman untuk dinikmati dengan bersepeda"
      ],
      "metadata": {
        "id": "f73FBkLw9V8C"
      }
    },
    {
      "cell_type": "code",
      "source": [],
      "metadata": {
        "id": "b32P72p99VN9"
      },
      "execution_count": null,
      "outputs": []
    }
  ]
}