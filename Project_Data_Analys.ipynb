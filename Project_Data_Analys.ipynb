{
  "cells": [
    {
      "cell_type": "markdown",
      "metadata": {
        "id": "cP5zh7Ww85Fm"
      },
      "source": [
        "# Proyek Analisis Data: Bike Sharing Dataset\n",
        "- Nama: Akmal Shahib Maulana\n",
        "- Email: akmalshahibmaulana@gmail.com\n",
        "- Id Dicoding:"
      ]
    },
    {
      "cell_type": "markdown",
      "metadata": {
        "id": "ggwOFmpI88dG"
      },
      "source": [
        "## Menentukan Pertanyaan Bisnis"
      ]
    },
    {
      "cell_type": "markdown",
      "metadata": {
        "id": "6irqmTtg8-IC"
      },
      "source": [
        "1. Apakah langkah yang tepat untuk menjaga kestabilan usaha bike-sharing berdasarkan rekap data rental pada 2 tahun terakhir ?\n",
        "2. Faktor apa saja yang mempengaruhi jumlah rental sepeda pada 2 tahun terakhir dan keputusan apa yang harus diambil agar adanya peningkatan jumlah rental yang signifikan ?"
      ]
    },
    {
      "cell_type": "markdown",
      "metadata": {
        "id": "EueHsNk89AsY"
      },
      "source": [
        "## Menyaipkan semua library yang dibuthkan"
      ]
    },
    {
      "cell_type": "code",
      "execution_count": null,
      "metadata": {
        "id": "4cmWv4qc8xWu"
      },
      "outputs": [],
      "source": [
        "import pandas as pd\n",
        "import seaborn as sns\n",
        "import matplotlib.pyplot as plt"
      ]
    },
    {
      "cell_type": "markdown",
      "metadata": {
        "id": "7DwSpkkZ9BqV"
      },
      "source": [
        "## Data Wrangling"
      ]
    },
    {
      "cell_type": "markdown",
      "metadata": {
        "id": "ZuJuLGxe9D9O"
      },
      "source": [
        "### Gathering Data"
      ]
    },
    {
      "cell_type": "code",
      "execution_count": null,
      "metadata": {
        "id": "Rg3wtvOr9DUm"
      },
      "outputs": [],
      "source": [
        "data_day = pd.read_csv('day.csv')\n",
        "data_hour = pd.read_csv('hour.csv')"
      ]
    },
    {
      "cell_type": "markdown",
      "metadata": {
        "id": "kEcmWFVxJQv_"
      },
      "source": [
        "pada proses gathering data saya mengini siasi data yang siap untuk dianalisis dan lokasi data tersebut berada pada folder yang sama dengan kode saya"
      ]
    },
    {
      "cell_type": "markdown",
      "metadata": {
        "id": "BvZAfrSH9F2U"
      },
      "source": [
        "### Assessing Data"
      ]
    },
    {
      "cell_type": "code",
      "execution_count": null,
      "metadata": {
        "id": "fx7PaLsV9G8M"
      },
      "outputs": [],
      "source": [
        "data_day.isna()\n",
        "data_hour.isna()\n",
        "\n",
        "data_day.describe()\n",
        "data_hour.describe()\n",
        "\n",
        "print(data_day.duplicated().sum())\n",
        "print(data_hour.duplicated().sum())"
      ]
    },
    {
      "cell_type": "markdown",
      "metadata": {
        "id": "gRuXIu7jJjsj"
      },
      "source": [
        "Pada proses Assessing data saya meggunakan beberapa fungsi yaitu isna(), describe(), dan duplicated()\n",
        "dari hasil yang didapat setelah menggunakan fungsi info(),describe(),dan duplicated(), dapat diketahui bahwa tidak ada missing value atau duplicated data tapi ada kesalahan tipe data pada kedua dataset yaitu kolom dteday menggunakan tipe data string yang mana seharus nya menggunakan tipe data datetime. dibawah ini saya akan menampilkan kode untuk perbaikikan nya"
      ]
    },
    {
      "cell_type": "markdown",
      "metadata": {
        "id": "Uz5dgcJm9HW5"
      },
      "source": [
        "### Cleaning Data"
      ]
    },
    {
      "cell_type": "code",
      "execution_count": null,
      "metadata": {
        "id": "CCszTdXD9Ivf"
      },
      "outputs": [],
      "source": [
        "datetime_columns = [\"dteday\"]\n",
        "\n",
        "for column in datetime_columns:\n",
        "  data_day[column] = pd.to_datetime(data_day[column])\n",
        "  data_hour[column] = pd.to_datetime(data_hour[column])"
      ]
    },
    {
      "cell_type": "markdown",
      "metadata": {
        "id": "rL4OmEWkJ8gm"
      },
      "source": [
        "kode tersebut saya dapatkan dari latihan dicoding modul data wrangling\n",
        "\n",
        "untuk nama-nama kolom pada tabel tidak saya rubah karena saya merasa bukan hal yang urgent untuk dirubah selama ada dokumentasi dari dataset yang menjelaskan isi dari setiap kolom"
      ]
    },
    {
      "cell_type": "markdown",
      "metadata": {
        "id": "EyPJaCDm9KFb"
      },
      "source": [
        "## Exploratory Data Analysis (EDA)"
      ]
    },
    {
      "cell_type": "markdown",
      "metadata": {
        "id": "hxgJ6qd69Mce"
      },
      "source": [
        "### Explore ..."
      ]
    },
    {
      "cell_type": "code",
      "execution_count": null,
      "metadata": {
        "id": "Xo68yguo9LTl"
      },
      "outputs": [],
      "source": [
        "selected_columns = ['season','mnth','holiday', 'weekday', 'workingday', 'weathersit', 'temp', 'atemp', 'hum', 'windspeed', 'cnt']\n",
        "daybyYear2011 = data_day[(data_day['yr'] == 0) ][selected_columns]\n",
        "daybyYear2012 = data_day[(data_day['yr'] == 1) ][selected_columns]"
      ]
    },
    {
      "cell_type": "markdown",
      "metadata": {
        "id": "qCvgYUHpKDNX"
      },
      "source": [
        "Pada kode diatas dapat dilihat bahwa saya membagi datanya ada menjadi 2 bagian berdasarkan tahunnya karena saya ingin melihat kondisi penyewaan sepeda pertahun yang mana akan sesuai dengan pertanyaan yang telah saya tentukan"
      ]
    },
    {
      "cell_type": "markdown",
      "metadata": {
        "id": "SCNmtOLp9OKB"
      },
      "source": [
        "## Visualization & Explanatory Analysis"
      ]
    },
    {
      "cell_type": "markdown",
      "metadata": {
        "id": "SG59_Fbj9Qr6"
      },
      "source": [
        "### Pertanyaan 1:"
      ]
    },
    {
      "cell_type": "code",
      "execution_count": null,
      "metadata": {
        "id": "dtRoaxqd9PdU"
      },
      "outputs": [],
      "source": [
        "daybyYear2011['cnt'].plot(figsize=(12, 6), linestyle='-', color='b')\n",
        "daybyYear2012['cnt'].plot(figsize=(12, 6), linestyle='-', color='r')\n",
        "# Atur label dan judul\n",
        "plt.title('Total Pengguna Selama Tahun 2011 dan 2012')\n",
        "plt.xlabel('Bulan')\n",
        "plt.ylabel('Jumlah Pengguna')\n",
        "plt.show()"
      ]
    },
    {
      "cell_type": "markdown",
      "metadata": {
        "id": "F2Bo_ypQ9RfH"
      },
      "source": [
        "### Pertanyaan 2:"
      ]
    },
    {
      "cell_type": "code",
      "execution_count": null,
      "metadata": {
        "id": "jkO5kTJq9S1Y"
      },
      "outputs": [],
      "source": [
        "correlation_matrix = daybyYear2011.corr()\n",
        "sns.heatmap(correlation_matrix, annot=True, cmap='coolwarm', linewidths=.5)\n",
        "plt.title('Total Pengguna Selama Tahun 2012')\n",
        "plt.xlabel('Bulan')\n",
        "plt.ylabel('Jumlah Pengguna')\n",
        "plt.show()\n",
        "\n",
        "cnt_correlation = correlation_matrix['cnt'].drop('cnt')\n",
        "print(\"Korelasi dengan kolom 'cnt':\")\n",
        "print(cnt_correlation)"
      ]
    },
    {
      "cell_type": "markdown",
      "metadata": {
        "id": "J2CnXYGT9Tc2"
      },
      "source": [
        "## Conclusion"
      ]
    },
    {
      "cell_type": "markdown",
      "metadata": {
        "id": "f73FBkLw9V8C"
      },
      "source": [
        "- Conclution pertanyaan 1 : Dilihat dari jumlah penyewa 2 tahun terakhir bisa dibilang bahwasanya usaha bike sharing atau rental sepeda ini berada dalam kondisi yang tidak merugikan tidak pula terlalu menguntungkan pada bulan bulan awal 2011 bahkan sempat mangalami penurunan pada akhir tahun tersebut. Kemudian pada awal tahun 2012 kondisi kembali stabil bahkan semakin meningkat pada pertengahan akhir tahun 2012 sampai akhir mengalami penurunan pada akhir tahun lagi. Ada sebuah pola disini dmna awal nya meningkat secara perlahan sampai ke puncak pada kisaran bulan juli-agustus atau kisaran musim panas ke gugur lalu menurun saat musin dingin. Menurut saya langkah yang tepat adalah mengurangi jumlah sepeda pada saat musim dingin dan berikan perawatan pada unit sepeda agar siap menghadapi puncak penyewaan pada musim panas ke gugur pada tahun berikut nya sehingga saat terjadinya lonjakan penyewaan sepeda dalam kondisi aman sehingga mengurangi resiko kerusakan fatal yang bisa menyebabkan kerugian lebih besar jika tidak diberikan perawatan pada sepeda\n",
        "- conclution pertanyaan 2 : Pada visualisasi kedua saya menampilkan matriks korelasi setiap kolom untuk melihat kuat tidaknya korelasi yang dimiliki setiap kolom pada kolom yang lain dengan acuan kolom 'cnt' yang mana adalah total penyewaan sepeda. pada tabel tersebut dapat dilihat bahwa kolom temp dan atemp yang sama sama berisi data suhu pada hari tersebut memiliki korelasi yang kuat. Hal ini memberikan kesimpulan bahwa kondisi suhu yang sesuai akan meningkat minat seseorang untuk bersepeda hal ini bisa menjadi acuan dimana kita bisa meningkatkan penyewaan saat suhu pada hari tersebut nyaman untuk dinikmati dengan bersepeda"
      ]
    },
    {
      "cell_type": "code",
      "execution_count": null,
      "metadata": {
        "id": "b32P72p99VN9"
      },
      "outputs": [],
      "source": []
    },
    {
      "cell_type": "markdown",
      "metadata": {},
      "source": [
        "disini saya tambahkan link menuju streamlit dimana saya sudah mendeploy dashbord dari project ini\n",
        "https://dicoding-eiou7jwxln8r2iucjuwicj.streamlit.app/"
      ]
    },
    {
      "cell_type": "markdown",
      "metadata": {},
      "source": []
    }
  ],
  "metadata": {
    "colab": {
      "provenance": []
    },
    "kernelspec": {
      "display_name": "Python 3",
      "name": "python3"
    },
    "language_info": {
      "name": "python"
    }
  },
  "nbformat": 4,
  "nbformat_minor": 0
}
